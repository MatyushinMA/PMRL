{
 "cells": [
  {
   "cell_type": "code",
   "execution_count": 1,
   "metadata": {},
   "outputs": [],
   "source": [
    "import numpy as np\n",
    "from netline import Netline\n",
    "import gym"
   ]
  },
  {
   "cell_type": "code",
   "execution_count": 2,
   "metadata": {},
   "outputs": [],
   "source": [
    "env = gym.make('CartPole-v0')"
   ]
  },
  {
   "cell_type": "code",
   "execution_count": 3,
   "metadata": {},
   "outputs": [],
   "source": [
    "weights = np.random.random((10, 10))\n",
    "model = Netline(10, weights, num_inputs=4, num_outputs=2, learning_rate=0.001)"
   ]
  },
  {
   "cell_type": "code",
   "execution_count": 4,
   "metadata": {},
   "outputs": [
    {
     "data": {
      "text/plain": [
       "3.654981573307021"
      ]
     },
     "execution_count": 4,
     "metadata": {},
     "output_type": "execute_result"
    }
   ],
   "source": [
    "np.linalg.norm(model.W)"
   ]
  },
  {
   "cell_type": "code",
   "execution_count": null,
   "metadata": {},
   "outputs": [
    {
     "name": "stdout",
     "output_type": "stream",
     "text": [
      "Run 1349, Run length 8, Best run 96, Avg run 19.200000, W norm: 3.769785                                                                                                                                                                                                         \r"
     ]
    }
   ],
   "source": [
    "epoch = 0\n",
    "best_run = 0\n",
    "last_runs = [] \n",
    "while True:\n",
    "    model.reset()\n",
    "    model.reset_rewards()\n",
    "    initial = env.reset()[2:]\n",
    "    initial[0] = (initial[0] + 0.42)/0.84\n",
    "    initial[1] = (initial[1] + 12.0)/24.0\n",
    "    input = []\n",
    "    if initial[0] < 0.5:\n",
    "        input += [initial[0], 0]\n",
    "    else:\n",
    "        input += [0, initial[0]]\n",
    "    if initial[1] < 0.5:\n",
    "        input += [initial[1], 0]\n",
    "    else:\n",
    "        input += [0, initial[1]]\n",
    "    action = model.feed(input)\n",
    "    run_length = 0\n",
    "    while True:\n",
    "        env.render()\n",
    "        if action[0] - action[1] > 0.01:\n",
    "            ret = env.step(0)\n",
    "        elif action[0] - action[1] < -0.01:\n",
    "            ret = env.step(1)\n",
    "        else:\n",
    "            ret = env.step(np.random.randint(2))\n",
    "        next_position = ret[0][2:]\n",
    "        r = next_position[0]**2 - next_position[1]**2\n",
    "        model.reward(r)\n",
    "        next_position[0] = (next_position[0] + 0.42)/0.84\n",
    "        next_position[1] = (next_position[1] + 6.0)/12.0\n",
    "        input = []\n",
    "        if next_position[0] < 0.5:\n",
    "            input += [next_position[0], 0]\n",
    "        else:\n",
    "            input += [0, next_position[0]]\n",
    "        if next_position[1] < 0.5:\n",
    "            input += [next_position[1], 0]\n",
    "        else:\n",
    "            input += [0, next_position[1]]\n",
    "        action = model.feed(input)\n",
    "        if ret[2]:\n",
    "            break\n",
    "        run_length += 1\n",
    "    last_runs += [run_length]\n",
    "    if len(last_runs) > 20:\n",
    "        last_runs = last_runs[1:]\n",
    "    avg_run_len = sum(last_runs)/20\n",
    "    epoch += 1\n",
    "    if run_length > best_run:\n",
    "        best_run = run_length\n",
    "    print('Run %d, Run length %d, Best run %d, Avg run %f, W norm: %f' % (epoch, run_length, best_run, avg_run_len, np.linalg.norm(model.W)), end=' '*200 + '\\r')"
   ]
  },
  {
   "cell_type": "code",
   "execution_count": null,
   "metadata": {},
   "outputs": [],
   "source": []
  }
 ],
 "metadata": {
  "kernelspec": {
   "display_name": "Python 3",
   "language": "python",
   "name": "python3"
  },
  "language_info": {
   "codemirror_mode": {
    "name": "ipython",
    "version": 3
   },
   "file_extension": ".py",
   "mimetype": "text/x-python",
   "name": "python",
   "nbconvert_exporter": "python",
   "pygments_lexer": "ipython3",
   "version": "3.7.3"
  }
 },
 "nbformat": 4,
 "nbformat_minor": 2
}
